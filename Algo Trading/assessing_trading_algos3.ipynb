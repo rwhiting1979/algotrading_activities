{
 "cells": [
  {
   "cell_type": "code",
   "execution_count": 5,
   "id": "655d8ff6-ed91-408c-921c-f9ad576841d1",
   "metadata": {},
   "outputs": [],
   "source": [
    "# Import required libraries\n",
    "import pandas as pd\n",
    "import numpy as np\n",
    "from pathlib import Path\n",
    "import hvplot.pandas"
   ]
  },
  {
   "cell_type": "code",
   "execution_count": 8,
   "id": "6b4031f6-2dc7-474b-a9a6-98a4f510a18d",
   "metadata": {},
   "outputs": [
    {
     "data": {
      "text/html": [
       "<div>\n",
       "<style scoped>\n",
       "    .dataframe tbody tr th:only-of-type {\n",
       "        vertical-align: middle;\n",
       "    }\n",
       "\n",
       "    .dataframe tbody tr th {\n",
       "        vertical-align: top;\n",
       "    }\n",
       "\n",
       "    .dataframe thead th {\n",
       "        text-align: right;\n",
       "    }\n",
       "</style>\n",
       "<table border=\"1\" class=\"dataframe\">\n",
       "  <thead>\n",
       "    <tr style=\"text-align: right;\">\n",
       "      <th></th>\n",
       "      <th>Close</th>\n",
       "    </tr>\n",
       "    <tr>\n",
       "      <th>Date</th>\n",
       "      <th></th>\n",
       "    </tr>\n",
       "  </thead>\n",
       "  <tbody>\n",
       "    <tr>\n",
       "      <th>2019-01-02 05:00:00+00:00</th>\n",
       "      <td>135.4100</td>\n",
       "    </tr>\n",
       "    <tr>\n",
       "      <th>2019-01-03 05:00:00+00:00</th>\n",
       "      <td>131.8902</td>\n",
       "    </tr>\n",
       "    <tr>\n",
       "      <th>2019-01-04 05:00:00+00:00</th>\n",
       "      <td>137.9400</td>\n",
       "    </tr>\n",
       "    <tr>\n",
       "      <th>2019-01-07 05:00:00+00:00</th>\n",
       "      <td>138.2300</td>\n",
       "    </tr>\n",
       "    <tr>\n",
       "      <th>2019-01-08 05:00:00+00:00</th>\n",
       "      <td>142.5843</td>\n",
       "    </tr>\n",
       "  </tbody>\n",
       "</table>\n",
       "</div>"
      ],
      "text/plain": [
       "                              Close\n",
       "Date                               \n",
       "2019-01-02 05:00:00+00:00  135.4100\n",
       "2019-01-03 05:00:00+00:00  131.8902\n",
       "2019-01-04 05:00:00+00:00  137.9400\n",
       "2019-01-07 05:00:00+00:00  138.2300\n",
       "2019-01-08 05:00:00+00:00  142.5843"
      ]
     },
     "execution_count": 8,
     "metadata": {},
     "output_type": "execute_result"
    }
   ],
   "source": [
    "# Read the vnq.csv file from the Resources folder into a Pandas DataFrame\n",
    "# Set the `Date` column as the DateTimeIndex\n",
    "fntk_df = pd.read_csv(\n",
    "    Path(\"fntk3.csv\"), \n",
    "    index_col=\"Date\",\n",
    "    parse_dates=True, \n",
    "    infer_datetime_format=True\n",
    ")\n",
    "\n",
    "# Review the DataFrame\n",
    "fntk_df.head()"
   ]
  },
  {
   "cell_type": "code",
   "execution_count": 9,
   "id": "de42add0-5f3a-4280-bcc8-471dba4994dc",
   "metadata": {},
   "outputs": [
    {
     "data": {
      "text/html": [
       "<div>\n",
       "<style scoped>\n",
       "    .dataframe tbody tr th:only-of-type {\n",
       "        vertical-align: middle;\n",
       "    }\n",
       "\n",
       "    .dataframe tbody tr th {\n",
       "        vertical-align: top;\n",
       "    }\n",
       "\n",
       "    .dataframe thead th {\n",
       "        text-align: right;\n",
       "    }\n",
       "</style>\n",
       "<table border=\"1\" class=\"dataframe\">\n",
       "  <thead>\n",
       "    <tr style=\"text-align: right;\">\n",
       "      <th></th>\n",
       "      <th>Close</th>\n",
       "    </tr>\n",
       "    <tr>\n",
       "      <th>Date</th>\n",
       "      <th></th>\n",
       "    </tr>\n",
       "  </thead>\n",
       "  <tbody>\n",
       "    <tr>\n",
       "      <th>2019-01-02 05:00:00+00:00</th>\n",
       "      <td>135.4100</td>\n",
       "    </tr>\n",
       "    <tr>\n",
       "      <th>2019-01-03 05:00:00+00:00</th>\n",
       "      <td>131.8902</td>\n",
       "    </tr>\n",
       "    <tr>\n",
       "      <th>2019-01-04 05:00:00+00:00</th>\n",
       "      <td>137.9400</td>\n",
       "    </tr>\n",
       "    <tr>\n",
       "      <th>2019-01-07 05:00:00+00:00</th>\n",
       "      <td>138.2300</td>\n",
       "    </tr>\n",
       "    <tr>\n",
       "      <th>2019-01-08 05:00:00+00:00</th>\n",
       "      <td>142.5843</td>\n",
       "    </tr>\n",
       "  </tbody>\n",
       "</table>\n",
       "</div>"
      ],
      "text/plain": [
       "                              Close\n",
       "Date                               \n",
       "2019-01-02 05:00:00+00:00  135.4100\n",
       "2019-01-03 05:00:00+00:00  131.8902\n",
       "2019-01-04 05:00:00+00:00  137.9400\n",
       "2019-01-07 05:00:00+00:00  138.2300\n",
       "2019-01-08 05:00:00+00:00  142.5843"
      ]
     },
     "execution_count": 9,
     "metadata": {},
     "output_type": "execute_result"
    }
   ],
   "source": [
    "# Create a DataFrame filtering only the index and Close columns\n",
    "fntk_df = fntk_df.loc[:,[\"Close\"]]\n",
    "\n",
    "# Review the DataFrame\n",
    "fntk_df.head()"
   ]
  },
  {
   "cell_type": "code",
   "execution_count": 10,
   "id": "7c8e9966-f857-4acf-930c-8dbc285f209e",
   "metadata": {},
   "outputs": [
    {
     "data": {},
     "metadata": {},
     "output_type": "display_data"
    },
    {
     "data": {
      "application/vnd.holoviews_exec.v0+json": "",
      "text/html": [
       "<div id='1002'>\n",
       "  <div class=\"bk-root\" id=\"b60d6ce0-835e-41c1-877a-2d66bbcba166\" data-root-id=\"1002\"></div>\n",
       "</div>\n",
       "<script type=\"application/javascript\">(function(root) {\n",
       "  function embed_document(root) {\n",
       "    var docs_json = {\"b8651cad-a6d1-492f-b24e-817069feb767\":{\"defs\":[{\"extends\":null,\"module\":null,\"name\":\"ReactiveHTML1\",\"overrides\":[],\"properties\":[]},{\"extends\":null,\"module\":null,\"name\":\"FlexBox1\",\"overrides\":[],\"properties\":[{\"default\":\"flex-start\",\"kind\":null,\"name\":\"align_content\"},{\"default\":\"flex-start\",\"kind\":null,\"name\":\"align_items\"},{\"default\":\"row\",\"kind\":null,\"name\":\"flex_direction\"},{\"default\":\"wrap\",\"kind\":null,\"name\":\"flex_wrap\"},{\"default\":\"flex-start\",\"kind\":null,\"name\":\"justify_content\"}]},{\"extends\":null,\"module\":null,\"name\":\"GridStack1\",\"overrides\":[],\"properties\":[{\"default\":\"warn\",\"kind\":null,\"name\":\"mode\"},{\"default\":null,\"kind\":null,\"name\":\"ncols\"},{\"default\":null,\"kind\":null,\"name\":\"nrows\"},{\"default\":true,\"kind\":null,\"name\":\"allow_resize\"},{\"default\":true,\"kind\":null,\"name\":\"allow_drag\"},{\"default\":[],\"kind\":null,\"name\":\"state\"}]},{\"extends\":null,\"module\":null,\"name\":\"click1\",\"overrides\":[],\"properties\":[{\"default\":\"\",\"kind\":null,\"name\":\"terminal_output\"},{\"default\":\"\",\"kind\":null,\"name\":\"debug_name\"},{\"default\":0,\"kind\":null,\"name\":\"clears\"}]},{\"extends\":null,\"module\":null,\"name\":\"NotificationAreaBase1\",\"overrides\":[],\"properties\":[{\"default\":\"bottom-right\",\"kind\":null,\"name\":\"position\"},{\"default\":0,\"kind\":null,\"name\":\"_clear\"}]},{\"extends\":null,\"module\":null,\"name\":\"NotificationArea1\",\"overrides\":[],\"properties\":[{\"default\":[],\"kind\":null,\"name\":\"notifications\"},{\"default\":\"bottom-right\",\"kind\":null,\"name\":\"position\"},{\"default\":0,\"kind\":null,\"name\":\"_clear\"},{\"default\":[{\"background\":\"#ffc107\",\"icon\":{\"className\":\"fas fa-exclamation-triangle\",\"color\":\"white\",\"tagName\":\"i\"},\"type\":\"warning\"},{\"background\":\"#007bff\",\"icon\":{\"className\":\"fas fa-info-circle\",\"color\":\"white\",\"tagName\":\"i\"},\"type\":\"info\"}],\"kind\":null,\"name\":\"types\"}]},{\"extends\":null,\"module\":null,\"name\":\"Notification\",\"overrides\":[],\"properties\":[{\"default\":null,\"kind\":null,\"name\":\"background\"},{\"default\":3000,\"kind\":null,\"name\":\"duration\"},{\"default\":null,\"kind\":null,\"name\":\"icon\"},{\"default\":\"\",\"kind\":null,\"name\":\"message\"},{\"default\":null,\"kind\":null,\"name\":\"notification_type\"},{\"default\":false,\"kind\":null,\"name\":\"_destroyed\"}]},{\"extends\":null,\"module\":null,\"name\":\"TemplateActions1\",\"overrides\":[],\"properties\":[{\"default\":0,\"kind\":null,\"name\":\"open_modal\"},{\"default\":0,\"kind\":null,\"name\":\"close_modal\"}]},{\"extends\":null,\"module\":null,\"name\":\"MaterialTemplateActions1\",\"overrides\":[],\"properties\":[{\"default\":0,\"kind\":null,\"name\":\"open_modal\"},{\"default\":0,\"kind\":null,\"name\":\"close_modal\"}]}],\"roots\":{\"references\":[{\"attributes\":{\"base\":24,\"mantissas\":[1,2,4,6,8,12],\"max_interval\":43200000.0,\"min_interval\":3600000.0,\"num_minor_ticks\":0},\"id\":\"1064\",\"type\":\"AdaptiveTicker\"},{\"attributes\":{\"margin\":[5,5,5,5],\"name\":\"HSpacer00864\",\"sizing_mode\":\"stretch_width\"},\"id\":\"1074\",\"type\":\"Spacer\"},{\"attributes\":{\"axis\":{\"id\":\"1020\"},\"coordinates\":null,\"dimension\":1,\"grid_line_color\":null,\"group\":null,\"ticker\":null},\"id\":\"1023\",\"type\":\"Grid\"},{\"attributes\":{\"line_color\":\"#30a2da\",\"line_width\":2,\"x\":{\"field\":\"Date\"},\"y\":{\"field\":\"Close\"}},\"id\":\"1045\",\"type\":\"Line\"},{\"attributes\":{},\"id\":\"1059\",\"type\":\"UnionRenderers\"},{\"attributes\":{\"days\":[1,4,7,10,13,16,19,22,25,28]},\"id\":\"1066\",\"type\":\"DaysTicker\"},{\"attributes\":{\"months\":[0,1,2,3,4,5,6,7,8,9,10,11]},\"id\":\"1069\",\"type\":\"MonthsTicker\"},{\"attributes\":{},\"id\":\"1051\",\"type\":\"AllLabels\"},{\"attributes\":{\"source\":{\"id\":\"1037\"}},\"id\":\"1044\",\"type\":\"CDSView\"},{\"attributes\":{\"days\":[1,8,15,22]},\"id\":\"1067\",\"type\":\"DaysTicker\"},{\"attributes\":{\"days\":[1,15]},\"id\":\"1068\",\"type\":\"DaysTicker\"},{\"attributes\":{\"below\":[{\"id\":\"1016\"}],\"center\":[{\"id\":\"1019\"},{\"id\":\"1023\"}],\"height\":300,\"left\":[{\"id\":\"1020\"}],\"margin\":[5,5,5,5],\"min_border_bottom\":10,\"min_border_left\":10,\"min_border_right\":10,\"min_border_top\":10,\"renderers\":[{\"id\":\"1043\"}],\"sizing_mode\":\"fixed\",\"title\":{\"id\":\"1008\"},\"toolbar\":{\"id\":\"1030\"},\"width\":700,\"x_range\":{\"id\":\"1004\"},\"x_scale\":{\"id\":\"1012\"},\"y_range\":{\"id\":\"1005\"},\"y_scale\":{\"id\":\"1014\"}},\"id\":\"1007\",\"subtype\":\"Figure\",\"type\":\"Plot\"},{\"attributes\":{\"tools\":[{\"id\":\"1006\"},{\"id\":\"1024\"},{\"id\":\"1025\"},{\"id\":\"1026\"},{\"id\":\"1027\"},{\"id\":\"1028\"}]},\"id\":\"1030\",\"type\":\"Toolbar\"},{\"attributes\":{},\"id\":\"1012\",\"type\":\"LinearScale\"},{\"attributes\":{\"bottom_units\":\"screen\",\"coordinates\":null,\"fill_alpha\":0.5,\"fill_color\":\"lightgrey\",\"group\":null,\"left_units\":\"screen\",\"level\":\"overlay\",\"line_alpha\":1.0,\"line_color\":\"black\",\"line_dash\":[4,4],\"line_width\":2,\"right_units\":\"screen\",\"syncable\":false,\"top_units\":\"screen\"},\"id\":\"1029\",\"type\":\"BoxAnnotation\"},{\"attributes\":{},\"id\":\"1024\",\"type\":\"SaveTool\"},{\"attributes\":{},\"id\":\"1025\",\"type\":\"PanTool\"},{\"attributes\":{\"months\":[0,2,4,6,8,10]},\"id\":\"1070\",\"type\":\"MonthsTicker\"},{\"attributes\":{\"end\":232.45198,\"reset_end\":232.45198,\"reset_start\":122.74821999999999,\"start\":122.74821999999999,\"tags\":[[[\"Close\",\"Close\",null]]]},\"id\":\"1005\",\"type\":\"Range1d\"},{\"attributes\":{},\"id\":\"1028\",\"type\":\"ResetTool\"},{\"attributes\":{},\"id\":\"1026\",\"type\":\"WheelZoomTool\"},{\"attributes\":{},\"id\":\"1047\",\"type\":\"DatetimeTickFormatter\"},{\"attributes\":{\"months\":[0,4,8]},\"id\":\"1071\",\"type\":\"MonthsTicker\"},{\"attributes\":{\"children\":[{\"id\":\"1003\"},{\"id\":\"1007\"},{\"id\":\"1074\"}],\"margin\":[0,0,0,0],\"name\":\"Row00859\",\"tags\":[\"embedded\"]},\"id\":\"1002\",\"type\":\"Row\"},{\"attributes\":{\"overlay\":{\"id\":\"1029\"}},\"id\":\"1027\",\"type\":\"BoxZoomTool\"},{\"attributes\":{},\"id\":\"1021\",\"type\":\"BasicTicker\"},{\"attributes\":{\"data\":{\"Close\":{\"__ndarray__\":\"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\",\"dtype\":\"float64\",\"order\":\"little\",\"shape\":[306]},\"Date\":{\"__ndarray__\":\"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\",\"dtype\":\"float64\",\"order\":\"little\",\"shape\":[306]}},\"selected\":{\"id\":\"1038\"},\"selection_policy\":{\"id\":\"1059\"}},\"id\":\"1037\",\"type\":\"ColumnDataSource\"},{\"attributes\":{\"callback\":null,\"formatters\":{\"@{Date}\":\"datetime\"},\"renderers\":[{\"id\":\"1043\"}],\"tags\":[\"hv_created\"],\"tooltips\":[[\"Date\",\"@{Date}{%F %T}\"],[\"Close\",\"@{Close}\"]]},\"id\":\"1006\",\"type\":\"HoverTool\"},{\"attributes\":{\"months\":[0,6]},\"id\":\"1072\",\"type\":\"MonthsTicker\"},{\"attributes\":{\"margin\":[5,5,5,5],\"name\":\"HSpacer00863\",\"sizing_mode\":\"stretch_width\"},\"id\":\"1003\",\"type\":\"Spacer\"},{\"attributes\":{},\"id\":\"1050\",\"type\":\"BasicTickFormatter\"},{\"attributes\":{\"line_alpha\":0.1,\"line_color\":\"#30a2da\",\"line_width\":2,\"x\":{\"field\":\"Date\"},\"y\":{\"field\":\"Close\"}},\"id\":\"1041\",\"type\":\"Line\"},{\"attributes\":{\"num_minor_ticks\":5,\"tickers\":[{\"id\":\"1062\"},{\"id\":\"1063\"},{\"id\":\"1064\"},{\"id\":\"1065\"},{\"id\":\"1066\"},{\"id\":\"1067\"},{\"id\":\"1068\"},{\"id\":\"1069\"},{\"id\":\"1070\"},{\"id\":\"1071\"},{\"id\":\"1072\"},{\"id\":\"1073\"}]},\"id\":\"1017\",\"type\":\"DatetimeTicker\"},{\"attributes\":{\"coordinates\":null,\"group\":null,\"text_color\":\"black\",\"text_font_size\":\"12pt\"},\"id\":\"1008\",\"type\":\"Title\"},{\"attributes\":{\"line_color\":\"#30a2da\",\"line_width\":2,\"x\":{\"field\":\"Date\"},\"y\":{\"field\":\"Close\"}},\"id\":\"1040\",\"type\":\"Line\"},{\"attributes\":{},\"id\":\"1073\",\"type\":\"YearsTicker\"},{\"attributes\":{\"axis_label\":\"Date\",\"coordinates\":null,\"formatter\":{\"id\":\"1047\"},\"group\":null,\"major_label_policy\":{\"id\":\"1048\"},\"ticker\":{\"id\":\"1017\"}},\"id\":\"1016\",\"type\":\"DatetimeAxis\"},{\"attributes\":{},\"id\":\"1048\",\"type\":\"AllLabels\"},{\"attributes\":{\"base\":60,\"mantissas\":[1,2,5,10,15,20,30],\"max_interval\":1800000.0,\"min_interval\":1000.0,\"num_minor_ticks\":0},\"id\":\"1063\",\"type\":\"AdaptiveTicker\"},{\"attributes\":{\"end\":1584590400000.0,\"reset_end\":1584590400000.0,\"reset_start\":1546405200000.0,\"start\":1546405200000.0,\"tags\":[[[\"Date\",\"Date\",null]]]},\"id\":\"1004\",\"type\":\"Range1d\"},{\"attributes\":{},\"id\":\"1014\",\"type\":\"LinearScale\"},{\"attributes\":{\"mantissas\":[1,2,5],\"max_interval\":500.0,\"num_minor_ticks\":0},\"id\":\"1062\",\"type\":\"AdaptiveTicker\"},{\"attributes\":{\"line_alpha\":0.2,\"line_color\":\"#30a2da\",\"line_width\":2,\"x\":{\"field\":\"Date\"},\"y\":{\"field\":\"Close\"}},\"id\":\"1042\",\"type\":\"Line\"},{\"attributes\":{\"axis_label\":\"Close\",\"coordinates\":null,\"formatter\":{\"id\":\"1050\"},\"group\":null,\"major_label_policy\":{\"id\":\"1051\"},\"ticker\":{\"id\":\"1021\"}},\"id\":\"1020\",\"type\":\"LinearAxis\"},{\"attributes\":{},\"id\":\"1038\",\"type\":\"Selection\"},{\"attributes\":{\"coordinates\":null,\"data_source\":{\"id\":\"1037\"},\"glyph\":{\"id\":\"1040\"},\"group\":null,\"hover_glyph\":null,\"muted_glyph\":{\"id\":\"1042\"},\"nonselection_glyph\":{\"id\":\"1041\"},\"selection_glyph\":{\"id\":\"1045\"},\"view\":{\"id\":\"1044\"}},\"id\":\"1043\",\"type\":\"GlyphRenderer\"},{\"attributes\":{\"axis\":{\"id\":\"1016\"},\"coordinates\":null,\"grid_line_color\":null,\"group\":null,\"ticker\":null},\"id\":\"1019\",\"type\":\"Grid\"},{\"attributes\":{\"days\":[1,2,3,4,5,6,7,8,9,10,11,12,13,14,15,16,17,18,19,20,21,22,23,24,25,26,27,28,29,30,31]},\"id\":\"1065\",\"type\":\"DaysTicker\"}],\"root_ids\":[\"1002\"]},\"title\":\"Bokeh Application\",\"version\":\"2.4.3\"}};\n",
       "    var render_items = [{\"docid\":\"b8651cad-a6d1-492f-b24e-817069feb767\",\"root_ids\":[\"1002\"],\"roots\":{\"1002\":\"b60d6ce0-835e-41c1-877a-2d66bbcba166\"}}];\n",
       "    root.Bokeh.embed.embed_items_notebook(docs_json, render_items);\n",
       "    for (const render_item of render_items) {\n",
       "      for (const root_id of render_item.root_ids) {\n",
       "\tconst id_el = document.getElementById(root_id)\n",
       "\tif (id_el.children.length && (id_el.children[0].className === 'bk-root')) {\n",
       "\t  const root_el = id_el.children[0]\n",
       "\t  root_el.id = root_el.id + '-rendered'\n",
       "\t}\n",
       "      }\n",
       "    }\n",
       "  }\n",
       "  if (root.Bokeh !== undefined && root.Bokeh.Panel !== undefined) {\n",
       "    embed_document(root);\n",
       "  } else {\n",
       "    var attempts = 0;\n",
       "    var timer = setInterval(function(root) {\n",
       "      if (root.Bokeh !== undefined && root.Bokeh.Panel !== undefined) {\n",
       "        clearInterval(timer);\n",
       "        embed_document(root);\n",
       "      } else if (document.readyState == \"complete\") {\n",
       "        attempts++;\n",
       "        if (attempts > 200) {\n",
       "          clearInterval(timer);\n",
       "          console.log(\"Bokeh: ERROR: Unable to run BokehJS code because BokehJS library is missing\");\n",
       "        }\n",
       "      }\n",
       "    }, 25, root)\n",
       "  }\n",
       "})(window);</script>"
      ],
      "text/plain": [
       ":Curve   [Date]   (Close)"
      ]
     },
     "execution_count": 10,
     "metadata": {
      "application/vnd.holoviews_exec.v0+json": {
       "id": "1002"
      }
     },
     "output_type": "execute_result"
    }
   ],
   "source": [
    "# Use hvplot to visualize the DataFrame\n",
    "fntk_df.hvplot()"
   ]
  },
  {
   "cell_type": "code",
   "execution_count": 11,
   "id": "0dd158e9-28c9-47c8-aa0b-c3ba761c04b0",
   "metadata": {},
   "outputs": [
    {
     "data": {
      "text/html": [
       "<div>\n",
       "<style scoped>\n",
       "    .dataframe tbody tr th:only-of-type {\n",
       "        vertical-align: middle;\n",
       "    }\n",
       "\n",
       "    .dataframe tbody tr th {\n",
       "        vertical-align: top;\n",
       "    }\n",
       "\n",
       "    .dataframe thead th {\n",
       "        text-align: right;\n",
       "    }\n",
       "</style>\n",
       "<table border=\"1\" class=\"dataframe\">\n",
       "  <thead>\n",
       "    <tr style=\"text-align: right;\">\n",
       "      <th></th>\n",
       "      <th>Close</th>\n",
       "      <th>daily_returns</th>\n",
       "      <th>daily_returns_lagged</th>\n",
       "    </tr>\n",
       "    <tr>\n",
       "      <th>Date</th>\n",
       "      <th></th>\n",
       "      <th></th>\n",
       "      <th></th>\n",
       "    </tr>\n",
       "  </thead>\n",
       "  <tbody>\n",
       "    <tr>\n",
       "      <th>2019-01-02 05:00:00+00:00</th>\n",
       "      <td>135.4100</td>\n",
       "      <td>NaN</td>\n",
       "      <td>NaN</td>\n",
       "    </tr>\n",
       "    <tr>\n",
       "      <th>2019-01-03 05:00:00+00:00</th>\n",
       "      <td>131.8902</td>\n",
       "      <td>-0.025994</td>\n",
       "      <td>NaN</td>\n",
       "    </tr>\n",
       "    <tr>\n",
       "      <th>2019-01-04 05:00:00+00:00</th>\n",
       "      <td>137.9400</td>\n",
       "      <td>0.045870</td>\n",
       "      <td>-0.025994</td>\n",
       "    </tr>\n",
       "    <tr>\n",
       "      <th>2019-01-07 05:00:00+00:00</th>\n",
       "      <td>138.2300</td>\n",
       "      <td>0.002102</td>\n",
       "      <td>0.045870</td>\n",
       "    </tr>\n",
       "    <tr>\n",
       "      <th>2019-01-08 05:00:00+00:00</th>\n",
       "      <td>142.5843</td>\n",
       "      <td>0.031500</td>\n",
       "      <td>0.002102</td>\n",
       "    </tr>\n",
       "  </tbody>\n",
       "</table>\n",
       "</div>"
      ],
      "text/plain": [
       "                              Close  daily_returns  daily_returns_lagged\n",
       "Date                                                                    \n",
       "2019-01-02 05:00:00+00:00  135.4100            NaN                   NaN\n",
       "2019-01-03 05:00:00+00:00  131.8902      -0.025994                   NaN\n",
       "2019-01-04 05:00:00+00:00  137.9400       0.045870             -0.025994\n",
       "2019-01-07 05:00:00+00:00  138.2300       0.002102              0.045870\n",
       "2019-01-08 05:00:00+00:00  142.5843       0.031500              0.002102"
      ]
     },
     "execution_count": 11,
     "metadata": {},
     "output_type": "execute_result"
    }
   ],
   "source": [
    "# Use hvplot to visualize the DataFrame\n",
    "fntk_df['daily_returns'] = fntk_df['Close'].pct_change()\n",
    "fntk_df['daily_returns_lagged'] = fntk_df['daily_returns'].shift(1)\n",
    "fntk_df.head()"
   ]
  },
  {
   "cell_type": "code",
   "execution_count": 12,
   "id": "ce014f6e-a5c6-426e-bb3b-546048b7f0b8",
   "metadata": {},
   "outputs": [
    {
     "data": {
      "text/html": [
       "<div>\n",
       "<style scoped>\n",
       "    .dataframe tbody tr th:only-of-type {\n",
       "        vertical-align: middle;\n",
       "    }\n",
       "\n",
       "    .dataframe tbody tr th {\n",
       "        vertical-align: top;\n",
       "    }\n",
       "\n",
       "    .dataframe thead th {\n",
       "        text-align: right;\n",
       "    }\n",
       "</style>\n",
       "<table border=\"1\" class=\"dataframe\">\n",
       "  <thead>\n",
       "    <tr style=\"text-align: right;\">\n",
       "      <th></th>\n",
       "      <th>Close</th>\n",
       "      <th>daily_returns</th>\n",
       "      <th>daily_returns_lagged</th>\n",
       "    </tr>\n",
       "    <tr>\n",
       "      <th>Date</th>\n",
       "      <th></th>\n",
       "      <th></th>\n",
       "      <th></th>\n",
       "    </tr>\n",
       "  </thead>\n",
       "  <tbody>\n",
       "    <tr>\n",
       "      <th>2019-01-02 05:00:00+00:00</th>\n",
       "      <td>135.4100</td>\n",
       "      <td>NaN</td>\n",
       "      <td>NaN</td>\n",
       "    </tr>\n",
       "    <tr>\n",
       "      <th>2019-01-03 05:00:00+00:00</th>\n",
       "      <td>131.8902</td>\n",
       "      <td>-0.025994</td>\n",
       "      <td>NaN</td>\n",
       "    </tr>\n",
       "    <tr>\n",
       "      <th>2019-01-04 05:00:00+00:00</th>\n",
       "      <td>137.9400</td>\n",
       "      <td>0.045870</td>\n",
       "      <td>-0.025994</td>\n",
       "    </tr>\n",
       "    <tr>\n",
       "      <th>2019-01-07 05:00:00+00:00</th>\n",
       "      <td>138.2300</td>\n",
       "      <td>0.002102</td>\n",
       "      <td>0.045870</td>\n",
       "    </tr>\n",
       "    <tr>\n",
       "      <th>2019-01-08 05:00:00+00:00</th>\n",
       "      <td>142.5843</td>\n",
       "      <td>0.031500</td>\n",
       "      <td>0.002102</td>\n",
       "    </tr>\n",
       "  </tbody>\n",
       "</table>\n",
       "</div>"
      ],
      "text/plain": [
       "                              Close  daily_returns  daily_returns_lagged\n",
       "Date                                                                    \n",
       "2019-01-02 05:00:00+00:00  135.4100            NaN                   NaN\n",
       "2019-01-03 05:00:00+00:00  131.8902      -0.025994                   NaN\n",
       "2019-01-04 05:00:00+00:00  137.9400       0.045870             -0.025994\n",
       "2019-01-07 05:00:00+00:00  138.2300       0.002102              0.045870\n",
       "2019-01-08 05:00:00+00:00  142.5843       0.031500              0.002102"
      ]
     },
     "execution_count": 12,
     "metadata": {},
     "output_type": "execute_result"
    }
   ],
   "source": [
    "# Use hvplot to visualize the DataFrame\n",
    "fntk_df['daily_returns'] = fntk_df['Close'].pct_change()\n",
    "fntk_df['daily_returns_lagged'] = fntk_df['daily_returns'].shift(1)\n",
    "fntk_df.head()# Use hvplot to visualize the DataFrame"
   ]
  },
  {
   "cell_type": "code",
   "execution_count": 13,
   "id": "16182a97-b615-4d42-a05d-22373c833951",
   "metadata": {},
   "outputs": [
    {
     "data": {
      "text/html": [
       "<style type=\"text/css\">\n",
       "#T_54684_row0_col0, #T_54684_row1_col1 {\n",
       "  background-color: #023858;\n",
       "  color: #f1f1f1;\n",
       "}\n",
       "#T_54684_row0_col1, #T_54684_row1_col0 {\n",
       "  background-color: #fff7fb;\n",
       "  color: #000000;\n",
       "}\n",
       "</style>\n",
       "<table id=\"T_54684_\">\n",
       "  <thead>\n",
       "    <tr>\n",
       "      <th class=\"blank level0\" >&nbsp;</th>\n",
       "      <th class=\"col_heading level0 col0\" >daily_returns</th>\n",
       "      <th class=\"col_heading level0 col1\" >daily_returns_lagged</th>\n",
       "    </tr>\n",
       "  </thead>\n",
       "  <tbody>\n",
       "    <tr>\n",
       "      <th id=\"T_54684_level0_row0\" class=\"row_heading level0 row0\" >daily_returns</th>\n",
       "      <td id=\"T_54684_row0_col0\" class=\"data row0 col0\" >1.000000</td>\n",
       "      <td id=\"T_54684_row0_col1\" class=\"data row0 col1\" >-0.200505</td>\n",
       "    </tr>\n",
       "    <tr>\n",
       "      <th id=\"T_54684_level0_row1\" class=\"row_heading level0 row1\" >daily_returns_lagged</th>\n",
       "      <td id=\"T_54684_row1_col0\" class=\"data row1 col0\" >-0.200505</td>\n",
       "      <td id=\"T_54684_row1_col1\" class=\"data row1 col1\" >1.000000</td>\n",
       "    </tr>\n",
       "  </tbody>\n",
       "</table>\n"
      ],
      "text/plain": [
       "<pandas.io.formats.style.Styler at 0x17442a0be48>"
      ]
     },
     "execution_count": 13,
     "metadata": {},
     "output_type": "execute_result"
    }
   ],
   "source": [
    "fntk_df[['daily_returns','daily_returns_lagged']].corr().style.background_gradient()"
   ]
  },
  {
   "cell_type": "code",
   "execution_count": 14,
   "id": "4c1c7b36-f921-4071-a375-171fe955646f",
   "metadata": {},
   "outputs": [],
   "source": [
    "fntk_df['trade_type'] =np.where(fntk_df['daily_returns_lagged']<0,1,-1)"
   ]
  },
  {
   "cell_type": "code",
   "execution_count": 15,
   "id": "b4932485-779a-4cad-bae9-9b7a2bf6971c",
   "metadata": {},
   "outputs": [
    {
     "data": {
      "text/html": [
       "<div>\n",
       "<style scoped>\n",
       "    .dataframe tbody tr th:only-of-type {\n",
       "        vertical-align: middle;\n",
       "    }\n",
       "\n",
       "    .dataframe tbody tr th {\n",
       "        vertical-align: top;\n",
       "    }\n",
       "\n",
       "    .dataframe thead th {\n",
       "        text-align: right;\n",
       "    }\n",
       "</style>\n",
       "<table border=\"1\" class=\"dataframe\">\n",
       "  <thead>\n",
       "    <tr style=\"text-align: right;\">\n",
       "      <th></th>\n",
       "      <th>Close</th>\n",
       "      <th>daily_returns</th>\n",
       "      <th>daily_returns_lagged</th>\n",
       "      <th>trade_type</th>\n",
       "    </tr>\n",
       "    <tr>\n",
       "      <th>Date</th>\n",
       "      <th></th>\n",
       "      <th></th>\n",
       "      <th></th>\n",
       "      <th></th>\n",
       "    </tr>\n",
       "  </thead>\n",
       "  <tbody>\n",
       "    <tr>\n",
       "      <th>2019-01-02 05:00:00+00:00</th>\n",
       "      <td>135.4100</td>\n",
       "      <td>NaN</td>\n",
       "      <td>NaN</td>\n",
       "      <td>-1</td>\n",
       "    </tr>\n",
       "    <tr>\n",
       "      <th>2019-01-03 05:00:00+00:00</th>\n",
       "      <td>131.8902</td>\n",
       "      <td>-0.025994</td>\n",
       "      <td>NaN</td>\n",
       "      <td>-1</td>\n",
       "    </tr>\n",
       "    <tr>\n",
       "      <th>2019-01-04 05:00:00+00:00</th>\n",
       "      <td>137.9400</td>\n",
       "      <td>0.045870</td>\n",
       "      <td>-0.025994</td>\n",
       "      <td>1</td>\n",
       "    </tr>\n",
       "    <tr>\n",
       "      <th>2019-01-07 05:00:00+00:00</th>\n",
       "      <td>138.2300</td>\n",
       "      <td>0.002102</td>\n",
       "      <td>0.045870</td>\n",
       "      <td>-1</td>\n",
       "    </tr>\n",
       "    <tr>\n",
       "      <th>2019-01-08 05:00:00+00:00</th>\n",
       "      <td>142.5843</td>\n",
       "      <td>0.031500</td>\n",
       "      <td>0.002102</td>\n",
       "      <td>-1</td>\n",
       "    </tr>\n",
       "    <tr>\n",
       "      <th>2019-01-09 05:00:00+00:00</th>\n",
       "      <td>144.2500</td>\n",
       "      <td>0.011682</td>\n",
       "      <td>0.031500</td>\n",
       "      <td>-1</td>\n",
       "    </tr>\n",
       "    <tr>\n",
       "      <th>2019-01-10 05:00:00+00:00</th>\n",
       "      <td>144.1500</td>\n",
       "      <td>-0.000693</td>\n",
       "      <td>0.011682</td>\n",
       "      <td>-1</td>\n",
       "    </tr>\n",
       "    <tr>\n",
       "      <th>2019-01-11 05:00:00+00:00</th>\n",
       "      <td>143.7205</td>\n",
       "      <td>-0.002980</td>\n",
       "      <td>-0.000693</td>\n",
       "      <td>1</td>\n",
       "    </tr>\n",
       "    <tr>\n",
       "      <th>2019-01-14 05:00:00+00:00</th>\n",
       "      <td>145.6300</td>\n",
       "      <td>0.013286</td>\n",
       "      <td>-0.002980</td>\n",
       "      <td>1</td>\n",
       "    </tr>\n",
       "    <tr>\n",
       "      <th>2019-01-15 05:00:00+00:00</th>\n",
       "      <td>148.8200</td>\n",
       "      <td>0.021905</td>\n",
       "      <td>0.013286</td>\n",
       "      <td>-1</td>\n",
       "    </tr>\n",
       "  </tbody>\n",
       "</table>\n",
       "</div>"
      ],
      "text/plain": [
       "                              Close  daily_returns  daily_returns_lagged  \\\n",
       "Date                                                                       \n",
       "2019-01-02 05:00:00+00:00  135.4100            NaN                   NaN   \n",
       "2019-01-03 05:00:00+00:00  131.8902      -0.025994                   NaN   \n",
       "2019-01-04 05:00:00+00:00  137.9400       0.045870             -0.025994   \n",
       "2019-01-07 05:00:00+00:00  138.2300       0.002102              0.045870   \n",
       "2019-01-08 05:00:00+00:00  142.5843       0.031500              0.002102   \n",
       "2019-01-09 05:00:00+00:00  144.2500       0.011682              0.031500   \n",
       "2019-01-10 05:00:00+00:00  144.1500      -0.000693              0.011682   \n",
       "2019-01-11 05:00:00+00:00  143.7205      -0.002980             -0.000693   \n",
       "2019-01-14 05:00:00+00:00  145.6300       0.013286             -0.002980   \n",
       "2019-01-15 05:00:00+00:00  148.8200       0.021905              0.013286   \n",
       "\n",
       "                           trade_type  \n",
       "Date                                   \n",
       "2019-01-02 05:00:00+00:00          -1  \n",
       "2019-01-03 05:00:00+00:00          -1  \n",
       "2019-01-04 05:00:00+00:00           1  \n",
       "2019-01-07 05:00:00+00:00          -1  \n",
       "2019-01-08 05:00:00+00:00          -1  \n",
       "2019-01-09 05:00:00+00:00          -1  \n",
       "2019-01-10 05:00:00+00:00          -1  \n",
       "2019-01-11 05:00:00+00:00           1  \n",
       "2019-01-14 05:00:00+00:00           1  \n",
       "2019-01-15 05:00:00+00:00          -1  "
      ]
     },
     "execution_count": 15,
     "metadata": {},
     "output_type": "execute_result"
    }
   ],
   "source": [
    "# Review the DataFrame\n",
    "fntk_df.head(10)"
   ]
  },
  {
   "cell_type": "code",
   "execution_count": 16,
   "id": "cec0b37c-5ab0-4488-a0f9-7b2c2e0fa002",
   "metadata": {},
   "outputs": [],
   "source": [
    "fntk_df.dropna(inplace=True)"
   ]
  },
  {
   "cell_type": "code",
   "execution_count": 17,
   "id": "853f5d7e-9fe9-4f09-b5ea-20366fc54ee3",
   "metadata": {},
   "outputs": [],
   "source": [
    "# Calculate the Total Return for the Trading Period\n",
    "fntk_df['algorithm_returns']= fntk_df['daily_returns'] * fntk_df['trade_type']\n"
   ]
  },
  {
   "cell_type": "code",
   "execution_count": 18,
   "id": "57f8e124-df8a-4ac5-a983-8fd13021e5b9",
   "metadata": {},
   "outputs": [],
   "source": [
    "fntk_df['algorithm_cumulative_returns']=(fntk_df['algorithm_returns'] + 1).cumprod()"
   ]
  },
  {
   "cell_type": "code",
   "execution_count": 19,
   "id": "daae1807-55f8-4f9e-8f85-c6f455e9a1dd",
   "metadata": {},
   "outputs": [
    {
     "data": {},
     "metadata": {},
     "output_type": "display_data"
    },
    {
     "data": {
      "application/vnd.holoviews_exec.v0+json": "",
      "text/html": [
       "<div id='1186'>\n",
       "  <div class=\"bk-root\" id=\"49aa44dd-5af3-45c7-b51e-e5561fb9acdf\" data-root-id=\"1186\"></div>\n",
       "</div>\n",
       "<script type=\"application/javascript\">(function(root) {\n",
       "  function embed_document(root) {\n",
       "    var docs_json = {\"8c33a462-f518-4fbf-bfed-26e9af49c534\":{\"defs\":[{\"extends\":null,\"module\":null,\"name\":\"ReactiveHTML1\",\"overrides\":[],\"properties\":[]},{\"extends\":null,\"module\":null,\"name\":\"FlexBox1\",\"overrides\":[],\"properties\":[{\"default\":\"flex-start\",\"kind\":null,\"name\":\"align_content\"},{\"default\":\"flex-start\",\"kind\":null,\"name\":\"align_items\"},{\"default\":\"row\",\"kind\":null,\"name\":\"flex_direction\"},{\"default\":\"wrap\",\"kind\":null,\"name\":\"flex_wrap\"},{\"default\":\"flex-start\",\"kind\":null,\"name\":\"justify_content\"}]},{\"extends\":null,\"module\":null,\"name\":\"GridStack1\",\"overrides\":[],\"properties\":[{\"default\":\"warn\",\"kind\":null,\"name\":\"mode\"},{\"default\":null,\"kind\":null,\"name\":\"ncols\"},{\"default\":null,\"kind\":null,\"name\":\"nrows\"},{\"default\":true,\"kind\":null,\"name\":\"allow_resize\"},{\"default\":true,\"kind\":null,\"name\":\"allow_drag\"},{\"default\":[],\"kind\":null,\"name\":\"state\"}]},{\"extends\":null,\"module\":null,\"name\":\"click1\",\"overrides\":[],\"properties\":[{\"default\":\"\",\"kind\":null,\"name\":\"terminal_output\"},{\"default\":\"\",\"kind\":null,\"name\":\"debug_name\"},{\"default\":0,\"kind\":null,\"name\":\"clears\"}]},{\"extends\":null,\"module\":null,\"name\":\"NotificationAreaBase1\",\"overrides\":[],\"properties\":[{\"default\":\"bottom-right\",\"kind\":null,\"name\":\"position\"},{\"default\":0,\"kind\":null,\"name\":\"_clear\"}]},{\"extends\":null,\"module\":null,\"name\":\"NotificationArea1\",\"overrides\":[],\"properties\":[{\"default\":[],\"kind\":null,\"name\":\"notifications\"},{\"default\":\"bottom-right\",\"kind\":null,\"name\":\"position\"},{\"default\":0,\"kind\":null,\"name\":\"_clear\"},{\"default\":[{\"background\":\"#ffc107\",\"icon\":{\"className\":\"fas fa-exclamation-triangle\",\"color\":\"white\",\"tagName\":\"i\"},\"type\":\"warning\"},{\"background\":\"#007bff\",\"icon\":{\"className\":\"fas fa-info-circle\",\"color\":\"white\",\"tagName\":\"i\"},\"type\":\"info\"}],\"kind\":null,\"name\":\"types\"}]},{\"extends\":null,\"module\":null,\"name\":\"Notification\",\"overrides\":[],\"properties\":[{\"default\":null,\"kind\":null,\"name\":\"background\"},{\"default\":3000,\"kind\":null,\"name\":\"duration\"},{\"default\":null,\"kind\":null,\"name\":\"icon\"},{\"default\":\"\",\"kind\":null,\"name\":\"message\"},{\"default\":null,\"kind\":null,\"name\":\"notification_type\"},{\"default\":false,\"kind\":null,\"name\":\"_destroyed\"}]},{\"extends\":null,\"module\":null,\"name\":\"TemplateActions1\",\"overrides\":[],\"properties\":[{\"default\":0,\"kind\":null,\"name\":\"open_modal\"},{\"default\":0,\"kind\":null,\"name\":\"close_modal\"}]},{\"extends\":null,\"module\":null,\"name\":\"MaterialTemplateActions1\",\"overrides\":[],\"properties\":[{\"default\":0,\"kind\":null,\"name\":\"open_modal\"},{\"default\":0,\"kind\":null,\"name\":\"close_modal\"}]}],\"roots\":{\"references\":[{\"attributes\":{},\"id\":\"1222\",\"type\":\"Selection\"},{\"attributes\":{\"days\":[1,4,7,10,13,16,19,22,25,28]},\"id\":\"1250\",\"type\":\"DaysTicker\"},{\"attributes\":{\"days\":[1,15]},\"id\":\"1252\",\"type\":\"DaysTicker\"},{\"attributes\":{\"axis_label\":\"Date\",\"coordinates\":null,\"formatter\":{\"id\":\"1231\"},\"group\":null,\"major_label_policy\":{\"id\":\"1232\"},\"ticker\":{\"id\":\"1201\"}},\"id\":\"1200\",\"type\":\"DatetimeAxis\"},{\"attributes\":{},\"id\":\"1243\",\"type\":\"UnionRenderers\"},{\"attributes\":{\"bottom_units\":\"screen\",\"coordinates\":null,\"fill_alpha\":0.5,\"fill_color\":\"lightgrey\",\"group\":null,\"left_units\":\"screen\",\"level\":\"overlay\",\"line_alpha\":1.0,\"line_color\":\"black\",\"line_dash\":[4,4],\"line_width\":2,\"right_units\":\"screen\",\"syncable\":false,\"top_units\":\"screen\"},\"id\":\"1213\",\"type\":\"BoxAnnotation\"},{\"attributes\":{\"num_minor_ticks\":5,\"tickers\":[{\"id\":\"1246\"},{\"id\":\"1247\"},{\"id\":\"1248\"},{\"id\":\"1249\"},{\"id\":\"1250\"},{\"id\":\"1251\"},{\"id\":\"1252\"},{\"id\":\"1253\"},{\"id\":\"1254\"},{\"id\":\"1255\"},{\"id\":\"1256\"},{\"id\":\"1257\"}]},\"id\":\"1201\",\"type\":\"DatetimeTicker\"},{\"attributes\":{\"coordinates\":null,\"group\":null,\"text\":\"algorithm_cumulative_returns\",\"text_color\":\"black\",\"text_font_size\":\"12pt\"},\"id\":\"1192\",\"type\":\"Title\"},{\"attributes\":{\"axis_label\":\"\",\"coordinates\":null,\"formatter\":{\"id\":\"1234\"},\"group\":null,\"major_label_policy\":{\"id\":\"1235\"},\"ticker\":{\"id\":\"1205\"}},\"id\":\"1204\",\"type\":\"LinearAxis\"},{\"attributes\":{\"children\":[{\"id\":\"1187\"},{\"id\":\"1191\"},{\"id\":\"1258\"}],\"margin\":[0,0,0,0],\"name\":\"Row00963\",\"tags\":[\"embedded\"]},\"id\":\"1186\",\"type\":\"Row\"},{\"attributes\":{},\"id\":\"1205\",\"type\":\"BasicTicker\"},{\"attributes\":{},\"id\":\"1235\",\"type\":\"AllLabels\"},{\"attributes\":{\"months\":[0,2,4,6,8,10]},\"id\":\"1254\",\"type\":\"MonthsTicker\"},{\"attributes\":{\"end\":1.212310574374143,\"reset_end\":1.212310574374143,\"reset_start\":0.683752031714827,\"start\":0.683752031714827,\"tags\":[[[\"algorithm_cumulative_returns\",\"algorithm_cumulative_returns\",null]]]},\"id\":\"1189\",\"type\":\"Range1d\"},{\"attributes\":{\"data\":{\"Date\":{\"__ndarray__\":\"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\",\"dtype\":\"float64\",\"order\":\"little\",\"shape\":[304]},\"algorithm_cumulative_returns\":{\"__ndarray__\":\"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\",\"dtype\":\"float64\",\"order\":\"little\",\"shape\":[304]}},\"selected\":{\"id\":\"1222\"},\"selection_policy\":{\"id\":\"1243\"}},\"id\":\"1221\",\"type\":\"ColumnDataSource\"},{\"attributes\":{\"base\":24,\"mantissas\":[1,2,4,6,8,12],\"max_interval\":43200000.0,\"min_interval\":3600000.0,\"num_minor_ticks\":0},\"id\":\"1248\",\"type\":\"AdaptiveTicker\"},{\"attributes\":{\"end\":1584590400000.0,\"reset_end\":1584590400000.0,\"reset_start\":1546578000000.0,\"start\":1546578000000.0,\"tags\":[[[\"Date\",\"Date\",null]]]},\"id\":\"1188\",\"type\":\"Range1d\"},{\"attributes\":{},\"id\":\"1198\",\"type\":\"LinearScale\"},{\"attributes\":{\"axis\":{\"id\":\"1200\"},\"coordinates\":null,\"grid_line_color\":null,\"group\":null,\"ticker\":null},\"id\":\"1203\",\"type\":\"Grid\"},{\"attributes\":{\"margin\":[5,5,5,5],\"name\":\"HSpacer00967\",\"sizing_mode\":\"stretch_width\"},\"id\":\"1187\",\"type\":\"Spacer\"},{\"attributes\":{\"line_alpha\":0.2,\"line_color\":\"#30a2da\",\"line_width\":2,\"x\":{\"field\":\"Date\"},\"y\":{\"field\":\"algorithm_cumulative_returns\"}},\"id\":\"1226\",\"type\":\"Line\"},{\"attributes\":{},\"id\":\"1209\",\"type\":\"PanTool\"},{\"attributes\":{\"months\":[0,4,8]},\"id\":\"1255\",\"type\":\"MonthsTicker\"},{\"attributes\":{},\"id\":\"1231\",\"type\":\"DatetimeTickFormatter\"},{\"attributes\":{\"days\":[1,2,3,4,5,6,7,8,9,10,11,12,13,14,15,16,17,18,19,20,21,22,23,24,25,26,27,28,29,30,31]},\"id\":\"1249\",\"type\":\"DaysTicker\"},{\"attributes\":{\"months\":[0,6]},\"id\":\"1256\",\"type\":\"MonthsTicker\"},{\"attributes\":{},\"id\":\"1208\",\"type\":\"SaveTool\"},{\"attributes\":{},\"id\":\"1212\",\"type\":\"ResetTool\"},{\"attributes\":{\"base\":60,\"mantissas\":[1,2,5,10,15,20,30],\"max_interval\":1800000.0,\"min_interval\":1000.0,\"num_minor_ticks\":0},\"id\":\"1247\",\"type\":\"AdaptiveTicker\"},{\"attributes\":{\"coordinates\":null,\"data_source\":{\"id\":\"1221\"},\"glyph\":{\"id\":\"1224\"},\"group\":null,\"hover_glyph\":null,\"muted_glyph\":{\"id\":\"1226\"},\"nonselection_glyph\":{\"id\":\"1225\"},\"selection_glyph\":{\"id\":\"1229\"},\"view\":{\"id\":\"1228\"}},\"id\":\"1227\",\"type\":\"GlyphRenderer\"},{\"attributes\":{\"line_alpha\":0.1,\"line_color\":\"#30a2da\",\"line_width\":2,\"x\":{\"field\":\"Date\"},\"y\":{\"field\":\"algorithm_cumulative_returns\"}},\"id\":\"1225\",\"type\":\"Line\"},{\"attributes\":{},\"id\":\"1210\",\"type\":\"WheelZoomTool\"},{\"attributes\":{\"source\":{\"id\":\"1221\"}},\"id\":\"1228\",\"type\":\"CDSView\"},{\"attributes\":{\"line_color\":\"#30a2da\",\"line_width\":2,\"x\":{\"field\":\"Date\"},\"y\":{\"field\":\"algorithm_cumulative_returns\"}},\"id\":\"1224\",\"type\":\"Line\"},{\"attributes\":{},\"id\":\"1196\",\"type\":\"LinearScale\"},{\"attributes\":{\"margin\":[5,5,5,5],\"name\":\"HSpacer00968\",\"sizing_mode\":\"stretch_width\"},\"id\":\"1258\",\"type\":\"Spacer\"},{\"attributes\":{},\"id\":\"1232\",\"type\":\"AllLabels\"},{\"attributes\":{\"line_color\":\"#30a2da\",\"line_width\":2,\"x\":{\"field\":\"Date\"},\"y\":{\"field\":\"algorithm_cumulative_returns\"}},\"id\":\"1229\",\"type\":\"Line\"},{\"attributes\":{\"overlay\":{\"id\":\"1213\"}},\"id\":\"1211\",\"type\":\"BoxZoomTool\"},{\"attributes\":{\"mantissas\":[1,2,5],\"max_interval\":500.0,\"num_minor_ticks\":0},\"id\":\"1246\",\"type\":\"AdaptiveTicker\"},{\"attributes\":{\"months\":[0,1,2,3,4,5,6,7,8,9,10,11]},\"id\":\"1253\",\"type\":\"MonthsTicker\"},{\"attributes\":{},\"id\":\"1257\",\"type\":\"YearsTicker\"},{\"attributes\":{\"tools\":[{\"id\":\"1190\"},{\"id\":\"1208\"},{\"id\":\"1209\"},{\"id\":\"1210\"},{\"id\":\"1211\"},{\"id\":\"1212\"}]},\"id\":\"1214\",\"type\":\"Toolbar\"},{\"attributes\":{\"axis\":{\"id\":\"1204\"},\"coordinates\":null,\"dimension\":1,\"grid_line_color\":null,\"group\":null,\"ticker\":null},\"id\":\"1207\",\"type\":\"Grid\"},{\"attributes\":{},\"id\":\"1234\",\"type\":\"BasicTickFormatter\"},{\"attributes\":{\"days\":[1,8,15,22]},\"id\":\"1251\",\"type\":\"DaysTicker\"},{\"attributes\":{\"callback\":null,\"formatters\":{\"@{Date}\":\"datetime\"},\"renderers\":[{\"id\":\"1227\"}],\"tags\":[\"hv_created\"],\"tooltips\":[[\"Date\",\"@{Date}{%F %T}\"],[\"algorithm_cumulative_returns\",\"@{algorithm_cumulative_returns}\"]]},\"id\":\"1190\",\"type\":\"HoverTool\"},{\"attributes\":{\"below\":[{\"id\":\"1200\"}],\"center\":[{\"id\":\"1203\"},{\"id\":\"1207\"}],\"height\":300,\"left\":[{\"id\":\"1204\"}],\"margin\":[5,5,5,5],\"min_border_bottom\":10,\"min_border_left\":10,\"min_border_right\":10,\"min_border_top\":10,\"renderers\":[{\"id\":\"1227\"}],\"sizing_mode\":\"fixed\",\"title\":{\"id\":\"1192\"},\"toolbar\":{\"id\":\"1214\"},\"width\":700,\"x_range\":{\"id\":\"1188\"},\"x_scale\":{\"id\":\"1196\"},\"y_range\":{\"id\":\"1189\"},\"y_scale\":{\"id\":\"1198\"}},\"id\":\"1191\",\"subtype\":\"Figure\",\"type\":\"Plot\"}],\"root_ids\":[\"1186\"]},\"title\":\"Bokeh Application\",\"version\":\"2.4.3\"}};\n",
       "    var render_items = [{\"docid\":\"8c33a462-f518-4fbf-bfed-26e9af49c534\",\"root_ids\":[\"1186\"],\"roots\":{\"1186\":\"49aa44dd-5af3-45c7-b51e-e5561fb9acdf\"}}];\n",
       "    root.Bokeh.embed.embed_items_notebook(docs_json, render_items);\n",
       "    for (const render_item of render_items) {\n",
       "      for (const root_id of render_item.root_ids) {\n",
       "\tconst id_el = document.getElementById(root_id)\n",
       "\tif (id_el.children.length && (id_el.children[0].className === 'bk-root')) {\n",
       "\t  const root_el = id_el.children[0]\n",
       "\t  root_el.id = root_el.id + '-rendered'\n",
       "\t}\n",
       "      }\n",
       "    }\n",
       "  }\n",
       "  if (root.Bokeh !== undefined && root.Bokeh.Panel !== undefined) {\n",
       "    embed_document(root);\n",
       "  } else {\n",
       "    var attempts = 0;\n",
       "    var timer = setInterval(function(root) {\n",
       "      if (root.Bokeh !== undefined && root.Bokeh.Panel !== undefined) {\n",
       "        clearInterval(timer);\n",
       "        embed_document(root);\n",
       "      } else if (document.readyState == \"complete\") {\n",
       "        attempts++;\n",
       "        if (attempts > 200) {\n",
       "          clearInterval(timer);\n",
       "          console.log(\"Bokeh: ERROR: Unable to run BokehJS code because BokehJS library is missing\");\n",
       "        }\n",
       "      }\n",
       "    }, 25, root)\n",
       "  }\n",
       "})(window);</script>"
      ],
      "text/plain": [
       ":Curve   [Date]   (algorithm_cumulative_returns)"
      ]
     },
     "execution_count": 19,
     "metadata": {
      "application/vnd.holoviews_exec.v0+json": {
       "id": "1186"
      }
     },
     "output_type": "execute_result"
    }
   ],
   "source": [
    "fntk_df['algorithm_cumulative_returns'].hvplot()"
   ]
  },
  {
   "cell_type": "code",
   "execution_count": 20,
   "id": "a32c3634-45a6-4b9e-8f48-c9ad93e1458d",
   "metadata": {},
   "outputs": [
    {
     "name": "stdout",
     "output_type": "stream",
     "text": [
      "The total_return of the trading strategy is 16.83%.\n"
     ]
    }
   ],
   "source": [
    "# Calculate the Cumulative Return for the Trading Period\n",
    "total_return = round((fntk_df['algorithm_cumulative_returns'][-1] - 1) * 100, 2)\n",
    "\n",
    "# Print the profit/loss metrics\n",
    "print(f\"The total_return of the trading strategy is {total_return}%.\")"
   ]
  },
  {
   "cell_type": "code",
   "execution_count": 21,
   "id": "f43d3e1b-dab8-4dcb-ae0b-8ce08180a1bd",
   "metadata": {},
   "outputs": [],
   "source": [
    "# Calculate the Cumulative Return for a 'Buy and Hold' Strategy\n",
    "fntk_df['buy_hold_cumulative_returns']=(fntk_df['daily_returns'] + 1).cumprod()"
   ]
  },
  {
   "cell_type": "code",
   "execution_count": 22,
   "id": "52a460d0-d856-40b5-a993-8b49d5a3487f",
   "metadata": {},
   "outputs": [
    {
     "data": {},
     "metadata": {},
     "output_type": "display_data"
    },
    {
     "data": {
      "application/vnd.holoviews_exec.v0+json": "",
      "text/html": [
       "<div id='1370'>\n",
       "  <div class=\"bk-root\" id=\"595108d8-1938-457f-8555-69ce85a24c1e\" data-root-id=\"1370\"></div>\n",
       "</div>\n",
       "<script type=\"application/javascript\">(function(root) {\n",
       "  function embed_document(root) {\n",
       "    var docs_json = {\"f9db85be-a447-4cf4-89c9-efe23425f497\":{\"defs\":[{\"extends\":null,\"module\":null,\"name\":\"ReactiveHTML1\",\"overrides\":[],\"properties\":[]},{\"extends\":null,\"module\":null,\"name\":\"FlexBox1\",\"overrides\":[],\"properties\":[{\"default\":\"flex-start\",\"kind\":null,\"name\":\"align_content\"},{\"default\":\"flex-start\",\"kind\":null,\"name\":\"align_items\"},{\"default\":\"row\",\"kind\":null,\"name\":\"flex_direction\"},{\"default\":\"wrap\",\"kind\":null,\"name\":\"flex_wrap\"},{\"default\":\"flex-start\",\"kind\":null,\"name\":\"justify_content\"}]},{\"extends\":null,\"module\":null,\"name\":\"GridStack1\",\"overrides\":[],\"properties\":[{\"default\":\"warn\",\"kind\":null,\"name\":\"mode\"},{\"default\":null,\"kind\":null,\"name\":\"ncols\"},{\"default\":null,\"kind\":null,\"name\":\"nrows\"},{\"default\":true,\"kind\":null,\"name\":\"allow_resize\"},{\"default\":true,\"kind\":null,\"name\":\"allow_drag\"},{\"default\":[],\"kind\":null,\"name\":\"state\"}]},{\"extends\":null,\"module\":null,\"name\":\"click1\",\"overrides\":[],\"properties\":[{\"default\":\"\",\"kind\":null,\"name\":\"terminal_output\"},{\"default\":\"\",\"kind\":null,\"name\":\"debug_name\"},{\"default\":0,\"kind\":null,\"name\":\"clears\"}]},{\"extends\":null,\"module\":null,\"name\":\"NotificationAreaBase1\",\"overrides\":[],\"properties\":[{\"default\":\"bottom-right\",\"kind\":null,\"name\":\"position\"},{\"default\":0,\"kind\":null,\"name\":\"_clear\"}]},{\"extends\":null,\"module\":null,\"name\":\"NotificationArea1\",\"overrides\":[],\"properties\":[{\"default\":[],\"kind\":null,\"name\":\"notifications\"},{\"default\":\"bottom-right\",\"kind\":null,\"name\":\"position\"},{\"default\":0,\"kind\":null,\"name\":\"_clear\"},{\"default\":[{\"background\":\"#ffc107\",\"icon\":{\"className\":\"fas fa-exclamation-triangle\",\"color\":\"white\",\"tagName\":\"i\"},\"type\":\"warning\"},{\"background\":\"#007bff\",\"icon\":{\"className\":\"fas fa-info-circle\",\"color\":\"white\",\"tagName\":\"i\"},\"type\":\"info\"}],\"kind\":null,\"name\":\"types\"}]},{\"extends\":null,\"module\":null,\"name\":\"Notification\",\"overrides\":[],\"properties\":[{\"default\":null,\"kind\":null,\"name\":\"background\"},{\"default\":3000,\"kind\":null,\"name\":\"duration\"},{\"default\":null,\"kind\":null,\"name\":\"icon\"},{\"default\":\"\",\"kind\":null,\"name\":\"message\"},{\"default\":null,\"kind\":null,\"name\":\"notification_type\"},{\"default\":false,\"kind\":null,\"name\":\"_destroyed\"}]},{\"extends\":null,\"module\":null,\"name\":\"TemplateActions1\",\"overrides\":[],\"properties\":[{\"default\":0,\"kind\":null,\"name\":\"open_modal\"},{\"default\":0,\"kind\":null,\"name\":\"close_modal\"}]},{\"extends\":null,\"module\":null,\"name\":\"MaterialTemplateActions1\",\"overrides\":[],\"properties\":[{\"default\":0,\"kind\":null,\"name\":\"open_modal\"},{\"default\":0,\"kind\":null,\"name\":\"close_modal\"}]}],\"roots\":{\"references\":[{\"attributes\":{\"line_alpha\":0.2,\"line_color\":\"#fc4f30\",\"line_width\":2,\"x\":{\"field\":\"Date\"},\"y\":{\"field\":\"algorithm_cumulative_returns\"}},\"id\":\"1451\",\"type\":\"Line\"},{\"attributes\":{\"line_alpha\":0.1,\"line_color\":\"#30a2da\",\"line_width\":2,\"x\":{\"field\":\"Date\"},\"y\":{\"field\":\"buy_hold_cumulative_returns\"}},\"id\":\"1417\",\"type\":\"Line\"},{\"attributes\":{\"line_alpha\":0.2,\"line_color\":\"#30a2da\",\"line_width\":2,\"x\":{\"field\":\"Date\"},\"y\":{\"field\":\"buy_hold_cumulative_returns\"}},\"id\":\"1418\",\"type\":\"Line\"},{\"attributes\":{},\"id\":\"1408\",\"type\":\"DatetimeTickFormatter\"},{\"attributes\":{\"months\":[0,4,8]},\"id\":\"1440\",\"type\":\"MonthsTicker\"},{\"attributes\":{\"source\":{\"id\":\"1413\"}},\"id\":\"1420\",\"type\":\"CDSView\"},{\"attributes\":{},\"id\":\"1409\",\"type\":\"AllLabels\"},{\"attributes\":{\"months\":[0,2,4,6,8,10]},\"id\":\"1439\",\"type\":\"MonthsTicker\"},{\"attributes\":{\"line_color\":\"#30a2da\",\"line_width\":2,\"x\":{\"field\":\"Date\"},\"y\":{\"field\":\"buy_hold_cumulative_returns\"}},\"id\":\"1416\",\"type\":\"Line\"},{\"attributes\":{\"callback\":null,\"formatters\":{\"@{Date}\":\"datetime\"},\"renderers\":[{\"id\":\"1452\"}],\"tags\":[\"hv_created\"],\"tooltips\":[[\"Date\",\"@{Date}{%F %T}\"],[\"algorithm_cumulative_returns\",\"@{algorithm_cumulative_returns}\"]]},\"id\":\"1375\",\"type\":\"HoverTool\"},{\"attributes\":{\"months\":[0,6]},\"id\":\"1441\",\"type\":\"MonthsTicker\"},{\"attributes\":{\"data\":{\"Date\":{\"__ndarray__\":\"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\",\"dtype\":\"float64\",\"order\":\"little\",\"shape\":[304]},\"buy_hold_cumulative_returns\":{\"__ndarray__\":\"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\",\"dtype\":\"float64\",\"order\":\"little\",\"shape\":[304]}},\"selected\":{\"id\":\"1414\"},\"selection_policy\":{\"id\":\"1428\"}},\"id\":\"1413\",\"type\":\"ColumnDataSource\"},{\"attributes\":{},\"id\":\"1447\",\"type\":\"Selection\"},{\"attributes\":{\"bottom_units\":\"screen\",\"coordinates\":null,\"fill_alpha\":0.5,\"fill_color\":\"lightgrey\",\"group\":null,\"left_units\":\"screen\",\"level\":\"overlay\",\"line_alpha\":1.0,\"line_color\":\"black\",\"line_dash\":[4,4],\"line_width\":2,\"right_units\":\"screen\",\"syncable\":false,\"top_units\":\"screen\"},\"id\":\"1398\",\"type\":\"BoxAnnotation\"},{\"attributes\":{},\"id\":\"1442\",\"type\":\"YearsTicker\"},{\"attributes\":{\"click_policy\":\"mute\",\"coordinates\":null,\"group\":null,\"items\":[{\"id\":\"1444\"},{\"id\":\"1478\"}]},\"id\":\"1443\",\"type\":\"Legend\"},{\"attributes\":{\"data\":{\"Date\":{\"__ndarray__\":\"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\",\"dtype\":\"float64\",\"order\":\"little\",\"shape\":[304]},\"algorithm_cumulative_returns\":{\"__ndarray__\":\"kM1LJ+K78D9T2cOL4LLwP8jCVoA3LPA/IT2yJ7P37z/hv3mDX/3vP7Bvo/r45O8/Qo0LH7oo8D/9pLK5OZzvPz+p9trO5+8/L7iHjZYF8D8q6suVt6DvP2F7p85yGvA/rh+dWx2D7z8hBo8WoODvP1ywtjXMJO8//cojewKB7z+WmMYt4M7uP1A6a8etEPA/OQZn0F+a7D8QHlrY9MTsPzBpt5rbTu0//CZJzaj17D9TPbWxwQntP2EGNUQZRew/i8+dkLt67D+/oIS+78DsP39pC80KpOw/gtl2E9B97D/gYR9J7HjsP2sPg8KUM+w/gSdkwYgm7D/RAktn6TzsPzzCJpVgrew/Y+YA4qD97D/LNARmr33sP5yhBpVhl+w/f0o+bw5g7D8VYiLBmyXsP56QxdRoSOw/4p+RNNlg6z+Xg3B5psLqP8eFedk+kOo/+XhBxxYV6z/WZvLJ8SfrP0ijlkFjxuo/hnL7YPvH6j8rozCNAAHrP/1QpNkCfes/sOXuwFrN6j9IBGqEYejpP/GzkylTGOo/qDAkKp156T8EsIx7kmHpPy2kP3+lpek/csABycDy6T/1i7/aa7rpP4U88yqyAuo/LFUIL3L16T9JHvW7niPqP0HsleQc0uk/1OLhMgf56D9s6ap1chPpP5QUWObwb+k/Knm/Bml76T9tRmE8FF7pP1c+Pm4uxOk/DgZund696T+imI0zGcrpP53njc3dBOo/bwviGUvv6T/w9p8KOg3qPwiLTtCdCuo/yHw3mnb56T8DuJ7Gq2/qPy60QqSmGuo/duA8LBtE6j+Y1DYzMMjrP9CKIK4PBuw/WZn/tVGB7D8Ae/HdJLbsPwxgbLeZqew/s/YKanSV7D8nsvp19wXtPzLuHl5nQu0/UKeF692n7D8102syu5rsP3VWCd/1d+w/HNcomwFx7D/EBUkrLmLrP14IxxtdRus/Bh+otmUc7D/ttnmO9wDsP3aAsxeuQ+w/pcf2/xLg6z/JULBAGjLsP1//Om6SHuw/gG5MUkrK7D9iFvKscNLsP2dDQ71pTuw/8Ry+jsOh7D8dh2HwwMLsP9KY9LRzpO0/8CDWn65n6z8fv8df0/3rP87dZ3jg4us/DZucz6jb6z8/zxa69gbrP0A6mVV9y+o/16Gv4WdK6j9X5FZ+aL7qPySLG+PWHes/kdj2DaeH6j8d+hiO4GbpP9K4P9DDeOk//RMRlGhT6T+bP5EkF5TpPzxDSzlyVOk/1TpnaUYk6T9dMMNn8aDpP+znJ3bcdek/V4RLpt+36T+Qydlz9z7pP5YJY/tLPuk/Nn7FelT76D/t/BBVKbToP0o1x+P4yeg/0WjN97ey6D8N9K9YLCHpPzF+XCx9r+g/1TkexKDd6D+3m+MouVHpPxt242locOk/RfhjpIht6T+bmv2oBi3pP4Te2Kh+C+k/4MI7Ftq+6D+8OVDGWjzpP+a70AB7Oek/yVVdZV/x6D/vpVco7mzpP9FpnxDuSOk/PGwW3jnS6D94gDQLM/foP+3ameaoUuk/J1a5OO4f6T9mcL94HKToP4+THcwksOc/+LN/uLAO6D+lqaidGPvnPytNZNxKU+c/Av9REYKb5z8DjsA9IErnP1GkIJdzr+c/SQEmMkPK6D+oqzydvjDpP44vBFi5DOk/2alQEqCy6D8A1dtEeQXpP90mTZGh/eg/CYmpRizJ6D+Oh3tV/TPoP+gEiDbMkug/OcXsfJB26D9Vyk2q+2XoP6USFUTA4+c/VnAWycvf5z+gQ1kCa0zoP17bgPNy7+g/re878jpw6D85UlbvBd7oPwwp13/GB+k/KKe6uvBa6T+Ty7H/+ajpP7NhhOWZzuk/3YAGRurB6T9EW7aj56LpP2nx1XIn5ek/K6ugPM3k6T9jE4dmoJ3pP+4D8oo/puk/pXVPgsk86T8sQH67jnzoP89e6p8OsOg/2APUYKYK6T9Qipe6spzoP3mVIQBIwOg/mfbMI2kR6T/d6mnq9+XoPx363Ivtlek/gv8h5CZy6T+2cZ6XJozpPyWMeUUsRek/6SArT5yR6T9xfNnJgYTpP4eRCL1k9ug//2Dr/NoS6T9ZXzEP3tTpPyAo+ziNuek/xXcvAR2e6T9uywQNfTrqP3bgUVsFx+o/Q5CEgs3T6z/vf3gTomrsP3mDdGRtYuw/cqATIVYo7D+vhrmDVOvrP8s6xJGc8Os/9mxssorF6z+QmEgPxknsP/ULp7TV/es/Jl36fbrX6z8cDgQjAebrPz2Lbm53f+s/gTdM6k1W6z/AUNrSNWfrP9+LAbNAlus/IAETOUJO7D87PrV6zH/sP14wZHdmfOw/6FL4P8XG7D8A2UcTQm3sP9epVCpXKOw/M2uDvIRq7D/+rUZQW3rsPxTH2IZdV+w/mVqUc6A37D/WdhJg+1nsPxAMpYTPzuw/62shQjnb7D+jyMH4DpPsP8hKAQ6Oc+w/IAh58Mpu7D/hEIYSVofsP+Fp/iApSuw/VyLivrY/7D9qlVzJKE/sP9R4VmJqfuw/mGNxN0NG7T+D+G+5hejsPxYcchDlde0/Mdhxul1k7T9KcV2SaM3sPwCvcF2XRuw/7BHO/oI+7D+CnoACXkLsP4o5mho6Huw/lg8Jutt67D8tnyks+2/sP5nGYpkR8ew/z0+8UrcJ7T/jxhLJuF/sP8DGMDSyi+w/R65+84ca7T/kVn1qQArtP6slDD69u+w/a97bAedU7D8DxbA54FzsP3H218pl3uw/3ggazfQ+7T/XyCsucIjtPybi6gQ5cu0/Z5SYgAxp7T/dFYpda3/tPzL0Qi9Iee0/MsXCjgtC7T8xtIG/rgbtPxjuWWdhnuw/A4KGcvEB7T89JAGSukXsPw1R78q7Au4/+TSj29Xo7D/IApvyJT3tP2vKZaHubOw/pb9eHnNg7D+dZzGqVUrsPx7hSPLYF+w/Ss9qTBv+6z+tiO9SMcbsPxDn3aliRu0/5595ZUny7D9rj40Tbs3sP/sKEgovUuw/Enb2HNda7D+9f5hlY/nrP4LUqRLgZes/hQqLnigr6j+Rm6K6qKLpP+7mCVmutOk//ADl8qau6j/2Kzs1exzrPzIcVh2lk+o/fFyULVEE7D/6xUnx9efsP4kXeA8s7e0/UTR2C0VL7T8LNpLLQ0XrPxqVSUlc0uw/9+FGW2Ac7j/SoeEqsFLrPysayoR9Lu4/dH5rSJtF8T+Paefaa67xP/hKPGQ39vE/Z9pknzWx8j8=\",\"dtype\":\"float64\",\"order\":\"little\",\"shape\":[304]}},\"selected\":{\"id\":\"1447\"},\"selection_policy\":{\"id\":\"1463\"}},\"id\":\"1446\",\"type\":\"ColumnDataSource\"},{\"attributes\":{},\"id\":\"1393\",\"type\":\"SaveTool\"},{\"attributes\":{},\"id\":\"1394\",\"type\":\"PanTool\"},{\"attributes\":{\"overlay\":{\"id\":\"1398\"}},\"id\":\"1396\",\"type\":\"BoxZoomTool\"},{\"attributes\":{},\"id\":\"1412\",\"type\":\"AllLabels\"},{\"attributes\":{},\"id\":\"1463\",\"type\":\"UnionRenderers\"},{\"attributes\":{\"below\":[{\"id\":\"1385\"}],\"center\":[{\"id\":\"1388\"},{\"id\":\"1392\"},{\"id\":\"1443\"}],\"height\":300,\"left\":[{\"id\":\"1389\"}],\"margin\":[5,5,5,5],\"min_border_bottom\":10,\"min_border_left\":10,\"min_border_right\":10,\"min_border_top\":10,\"renderers\":[{\"id\":\"1419\"},{\"id\":\"1452\"}],\"sizing_mode\":\"fixed\",\"title\":{\"id\":\"1377\"},\"toolbar\":{\"id\":\"1399\"},\"width\":700,\"x_range\":{\"id\":\"1372\"},\"x_scale\":{\"id\":\"1381\"},\"y_range\":{\"id\":\"1373\"},\"y_scale\":{\"id\":\"1383\"}},\"id\":\"1376\",\"subtype\":\"Figure\",\"type\":\"Plot\"},{\"attributes\":{\"coordinates\":null,\"data_source\":{\"id\":\"1413\"},\"glyph\":{\"id\":\"1416\"},\"group\":null,\"hover_glyph\":null,\"muted_glyph\":{\"id\":\"1418\"},\"nonselection_glyph\":{\"id\":\"1417\"},\"selection_glyph\":{\"id\":\"1445\"},\"view\":{\"id\":\"1420\"}},\"id\":\"1419\",\"type\":\"GlyphRenderer\"},{\"attributes\":{\"line_color\":\"#fc4f30\",\"line_width\":2,\"x\":{\"field\":\"Date\"},\"y\":{\"field\":\"algorithm_cumulative_returns\"}},\"id\":\"1479\",\"type\":\"Line\"},{\"attributes\":{\"line_alpha\":0.1,\"line_color\":\"#fc4f30\",\"line_width\":2,\"x\":{\"field\":\"Date\"},\"y\":{\"field\":\"algorithm_cumulative_returns\"}},\"id\":\"1450\",\"type\":\"Line\"},{\"attributes\":{},\"id\":\"1395\",\"type\":\"WheelZoomTool\"},{\"attributes\":{},\"id\":\"1414\",\"type\":\"Selection\"},{\"attributes\":{\"callback\":null,\"formatters\":{\"@{Date}\":\"datetime\"},\"renderers\":[{\"id\":\"1419\"}],\"tags\":[\"hv_created\"],\"tooltips\":[[\"Date\",\"@{Date}{%F %T}\"],[\"buy_hold_cumulative_returns\",\"@{buy_hold_cumulative_returns}\"]]},\"id\":\"1374\",\"type\":\"HoverTool\"},{\"attributes\":{},\"id\":\"1390\",\"type\":\"BasicTicker\"},{\"attributes\":{\"margin\":[5,5,5,5],\"name\":\"HSpacer01153\",\"sizing_mode\":\"stretch_width\"},\"id\":\"1504\",\"type\":\"Spacer\"},{\"attributes\":{\"label\":{\"value\":\"buy_hold_cumulative_returns\"},\"renderers\":[{\"id\":\"1419\"}]},\"id\":\"1444\",\"type\":\"LegendItem\"},{\"attributes\":{\"label\":{\"value\":\"algorithm_cumulative_returns\"},\"renderers\":[{\"id\":\"1452\"}]},\"id\":\"1478\",\"type\":\"LegendItem\"},{\"attributes\":{\"coordinates\":null,\"data_source\":{\"id\":\"1446\"},\"glyph\":{\"id\":\"1449\"},\"group\":null,\"hover_glyph\":null,\"muted_glyph\":{\"id\":\"1451\"},\"nonselection_glyph\":{\"id\":\"1450\"},\"selection_glyph\":{\"id\":\"1479\"},\"view\":{\"id\":\"1453\"}},\"id\":\"1452\",\"type\":\"GlyphRenderer\"},{\"attributes\":{},\"id\":\"1428\",\"type\":\"UnionRenderers\"},{\"attributes\":{\"mantissas\":[1,2,5],\"max_interval\":500.0,\"num_minor_ticks\":0},\"id\":\"1431\",\"type\":\"AdaptiveTicker\"},{\"attributes\":{\"base\":24,\"mantissas\":[1,2,4,6,8,12],\"max_interval\":43200000.0,\"min_interval\":3600000.0,\"num_minor_ticks\":0},\"id\":\"1433\",\"type\":\"AdaptiveTicker\"},{\"attributes\":{\"coordinates\":null,\"group\":null,\"text_color\":\"black\",\"text_font_size\":\"12pt\"},\"id\":\"1377\",\"type\":\"Title\"},{\"attributes\":{\"source\":{\"id\":\"1446\"}},\"id\":\"1453\",\"type\":\"CDSView\"},{\"attributes\":{},\"id\":\"1381\",\"type\":\"LinearScale\"},{\"attributes\":{},\"id\":\"1397\",\"type\":\"ResetTool\"},{\"attributes\":{\"months\":[0,1,2,3,4,5,6,7,8,9,10,11]},\"id\":\"1438\",\"type\":\"MonthsTicker\"},{\"attributes\":{\"margin\":[5,5,5,5],\"name\":\"HSpacer01152\",\"sizing_mode\":\"stretch_width\"},\"id\":\"1371\",\"type\":\"Spacer\"},{\"attributes\":{\"end\":1.7896860419713823,\"reset_end\":1.7896860419713823,\"reset_start\":0.6312633528423507,\"start\":0.6312633528423507,\"tags\":[[[\"buy_hold_cumulative_returns\",\"buy_hold_cumulative_returns\",null]]]},\"id\":\"1373\",\"type\":\"Range1d\"},{\"attributes\":{\"axis_label\":\"Date\",\"coordinates\":null,\"formatter\":{\"id\":\"1408\"},\"group\":null,\"major_label_policy\":{\"id\":\"1409\"},\"ticker\":{\"id\":\"1386\"}},\"id\":\"1385\",\"type\":\"DatetimeAxis\"},{\"attributes\":{\"num_minor_ticks\":5,\"tickers\":[{\"id\":\"1431\"},{\"id\":\"1432\"},{\"id\":\"1433\"},{\"id\":\"1434\"},{\"id\":\"1435\"},{\"id\":\"1436\"},{\"id\":\"1437\"},{\"id\":\"1438\"},{\"id\":\"1439\"},{\"id\":\"1440\"},{\"id\":\"1441\"},{\"id\":\"1442\"}]},\"id\":\"1386\",\"type\":\"DatetimeTicker\"},{\"attributes\":{\"base\":60,\"mantissas\":[1,2,5,10,15,20,30],\"max_interval\":1800000.0,\"min_interval\":1000.0,\"num_minor_ticks\":0},\"id\":\"1432\",\"type\":\"AdaptiveTicker\"},{\"attributes\":{\"days\":[1,4,7,10,13,16,19,22,25,28]},\"id\":\"1435\",\"type\":\"DaysTicker\"},{\"attributes\":{\"line_color\":\"#30a2da\",\"line_width\":2,\"x\":{\"field\":\"Date\"},\"y\":{\"field\":\"buy_hold_cumulative_returns\"}},\"id\":\"1445\",\"type\":\"Line\"},{\"attributes\":{},\"id\":\"1411\",\"type\":\"BasicTickFormatter\"},{\"attributes\":{\"days\":[1,2,3,4,5,6,7,8,9,10,11,12,13,14,15,16,17,18,19,20,21,22,23,24,25,26,27,28,29,30,31]},\"id\":\"1434\",\"type\":\"DaysTicker\"},{\"attributes\":{\"children\":[{\"id\":\"1371\"},{\"id\":\"1376\"},{\"id\":\"1504\"}],\"margin\":[0,0,0,0],\"name\":\"Row01148\",\"tags\":[\"embedded\"]},\"id\":\"1370\",\"type\":\"Row\"},{\"attributes\":{\"tools\":[{\"id\":\"1374\"},{\"id\":\"1375\"},{\"id\":\"1393\"},{\"id\":\"1394\"},{\"id\":\"1395\"},{\"id\":\"1396\"},{\"id\":\"1397\"}]},\"id\":\"1399\",\"type\":\"Toolbar\"},{\"attributes\":{\"days\":[1,8,15,22]},\"id\":\"1436\",\"type\":\"DaysTicker\"},{\"attributes\":{},\"id\":\"1383\",\"type\":\"LinearScale\"},{\"attributes\":{\"days\":[1,15]},\"id\":\"1437\",\"type\":\"DaysTicker\"},{\"attributes\":{\"end\":1584590400000.0,\"reset_end\":1584590400000.0,\"reset_start\":1546578000000.0,\"start\":1546578000000.0,\"tags\":[[[\"Date\",\"Date\",null]]]},\"id\":\"1372\",\"type\":\"Range1d\"},{\"attributes\":{\"axis_label\":\"\",\"coordinates\":null,\"formatter\":{\"id\":\"1411\"},\"group\":null,\"major_label_policy\":{\"id\":\"1412\"},\"ticker\":{\"id\":\"1390\"}},\"id\":\"1389\",\"type\":\"LinearAxis\"},{\"attributes\":{\"axis\":{\"id\":\"1385\"},\"coordinates\":null,\"grid_line_color\":null,\"group\":null,\"ticker\":null},\"id\":\"1388\",\"type\":\"Grid\"},{\"attributes\":{\"line_color\":\"#fc4f30\",\"line_width\":2,\"x\":{\"field\":\"Date\"},\"y\":{\"field\":\"algorithm_cumulative_returns\"}},\"id\":\"1449\",\"type\":\"Line\"},{\"attributes\":{\"axis\":{\"id\":\"1389\"},\"coordinates\":null,\"dimension\":1,\"grid_line_color\":null,\"group\":null,\"ticker\":null},\"id\":\"1392\",\"type\":\"Grid\"}],\"root_ids\":[\"1370\"]},\"title\":\"Bokeh Application\",\"version\":\"2.4.3\"}};\n",
       "    var render_items = [{\"docid\":\"f9db85be-a447-4cf4-89c9-efe23425f497\",\"root_ids\":[\"1370\"],\"roots\":{\"1370\":\"595108d8-1938-457f-8555-69ce85a24c1e\"}}];\n",
       "    root.Bokeh.embed.embed_items_notebook(docs_json, render_items);\n",
       "    for (const render_item of render_items) {\n",
       "      for (const root_id of render_item.root_ids) {\n",
       "\tconst id_el = document.getElementById(root_id)\n",
       "\tif (id_el.children.length && (id_el.children[0].className === 'bk-root')) {\n",
       "\t  const root_el = id_el.children[0]\n",
       "\t  root_el.id = root_el.id + '-rendered'\n",
       "\t}\n",
       "      }\n",
       "    }\n",
       "  }\n",
       "  if (root.Bokeh !== undefined && root.Bokeh.Panel !== undefined) {\n",
       "    embed_document(root);\n",
       "  } else {\n",
       "    var attempts = 0;\n",
       "    var timer = setInterval(function(root) {\n",
       "      if (root.Bokeh !== undefined && root.Bokeh.Panel !== undefined) {\n",
       "        clearInterval(timer);\n",
       "        embed_document(root);\n",
       "      } else if (document.readyState == \"complete\") {\n",
       "        attempts++;\n",
       "        if (attempts > 200) {\n",
       "          clearInterval(timer);\n",
       "          console.log(\"Bokeh: ERROR: Unable to run BokehJS code because BokehJS library is missing\");\n",
       "        }\n",
       "      }\n",
       "    }, 25, root)\n",
       "  }\n",
       "})(window);</script>"
      ],
      "text/plain": [
       ":Overlay\n",
       "   .Curve.Buy_hold_cumulative_returns  :Curve   [Date]   (buy_hold_cumulative_returns)\n",
       "   .Curve.Algorithm_cumulative_returns :Curve   [Date]   (algorithm_cumulative_returns)"
      ]
     },
     "execution_count": 22,
     "metadata": {
      "application/vnd.holoviews_exec.v0+json": {
       "id": "1370"
      }
     },
     "output_type": "execute_result"
    }
   ],
   "source": [
    "fntk_df['buy_hold_cumulative_returns'].hvplot() * fntk_df['algorithm_cumulative_returns'].hvplot()"
   ]
  },
  {
   "cell_type": "code",
   "execution_count": 23,
   "id": "590f7f98-50d1-49d9-931a-d5334dc2e4cc",
   "metadata": {},
   "outputs": [
    {
     "name": "stdout",
     "output_type": "stream",
     "text": [
      "The total_return of the trading strategy is 16.03%.\n"
     ]
    }
   ],
   "source": [
    "total_return = round((fntk_df['buy_hold_cumulative_returns'][-1] - 1) * 100, 2)\n",
    "\n",
    "print(f\"The total_return of the trading strategy is {total_return}%.\")"
   ]
  }
 ],
 "metadata": {
  "kernelspec": {
   "display_name": "Python 3 (ipykernel)",
   "language": "python",
   "name": "python3"
  },
  "language_info": {
   "codemirror_mode": {
    "name": "ipython",
    "version": 3
   },
   "file_extension": ".py",
   "mimetype": "text/x-python",
   "name": "python",
   "nbconvert_exporter": "python",
   "pygments_lexer": "ipython3",
   "version": "3.7.13"
  }
 },
 "nbformat": 4,
 "nbformat_minor": 5
}
